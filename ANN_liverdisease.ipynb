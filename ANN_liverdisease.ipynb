{
  "nbformat": 4,
  "nbformat_minor": 0,
  "metadata": {
    "colab": {
      "name": "ANN_liverdisease.ipynb",
      "provenance": [],
      "collapsed_sections": [],
      "authorship_tag": "ABX9TyOaFQN+6UAYKIDpjeG3uhS8",
      "include_colab_link": true
    },
    "kernelspec": {
      "name": "python3",
      "display_name": "Python 3"
    },
    "language_info": {
      "name": "python"
    }
  },
  "cells": [
    {
      "cell_type": "markdown",
      "metadata": {
        "id": "view-in-github",
        "colab_type": "text"
      },
      "source": [
        "<a href=\"https://colab.research.google.com/github/RakshithDB1/Predication-of-liver-disease-using-machine-learning-techniques/blob/master/ANN_liverdisease.ipynb\" target=\"_parent\"><img src=\"https://colab.research.google.com/assets/colab-badge.svg\" alt=\"Open In Colab\"/></a>"
      ]
    },
    {
      "cell_type": "code",
      "metadata": {
        "id": "GngyCRedL5ik"
      },
      "source": [
        "import tensorflow as tf\n",
        "import numpy as np\n",
        "import pandas as pd\n"
      ],
      "execution_count": null,
      "outputs": []
    },
    {
      "cell_type": "code",
      "metadata": {
        "colab": {
          "base_uri": "https://localhost:8080/",
          "height": 35
        },
        "id": "5OSYLcLhNcnG",
        "outputId": "29d36d24-bb7a-46cc-e343-3cffef2b8071"
      },
      "source": [
        "tf.__version__\n"
      ],
      "execution_count": null,
      "outputs": [
        {
          "output_type": "execute_result",
          "data": {
            "application/vnd.google.colaboratory.intrinsic+json": {
              "type": "string"
            },
            "text/plain": [
              "'2.4.1'"
            ]
          },
          "metadata": {
            "tags": []
          },
          "execution_count": 3
        }
      ]
    },
    {
      "cell_type": "markdown",
      "metadata": {
        "id": "qzlSufZr_mse"
      },
      "source": [
        ""
      ]
    },
    {
      "cell_type": "code",
      "metadata": {
        "id": "kw_ws526Nc3A"
      },
      "source": [
        "dataset = pd.read_csv('/content/Indian Liver Patient Dataset (ILPD).csv')\n",
        "\n"
      ],
      "execution_count": null,
      "outputs": []
    },
    {
      "cell_type": "code",
      "metadata": {
        "id": "Uvy3oqmUNdHY"
      },
      "source": [
        "dataset.columns=['Age','Gender','TB','DB','Alkphos','Sgpt','Sgot','TP','ALB','A/G Ratio' ,'Selector field']\n"
      ],
      "execution_count": null,
      "outputs": []
    },
    {
      "cell_type": "code",
      "metadata": {
        "colab": {
          "base_uri": "https://localhost:8080/"
        },
        "id": "65xJTu5GPChv",
        "outputId": "3bfc43a7-7dcf-4ba4-d525-9e2eba45d093"
      },
      "source": [
        "dataset.isnull().sum()"
      ],
      "execution_count": null,
      "outputs": [
        {
          "output_type": "execute_result",
          "data": {
            "text/plain": [
              "Age               0\n",
              "Gender            0\n",
              "TB                0\n",
              "DB                0\n",
              "Alkphos           0\n",
              "Sgpt              0\n",
              "Sgot              0\n",
              "TP                0\n",
              "ALB               0\n",
              "A/G Ratio         4\n",
              "Selector field    0\n",
              "dtype: int64"
            ]
          },
          "metadata": {
            "tags": []
          },
          "execution_count": 47
        }
      ]
    },
    {
      "cell_type": "code",
      "metadata": {
        "colab": {
          "base_uri": "https://localhost:8080/"
        },
        "id": "kODSIFkrPEUs",
        "outputId": "ae2ebe9d-e207-4d47-f54e-32b1d4c13a09"
      },
      "source": [
        "dataset['A/G Ratio'].mean()"
      ],
      "execution_count": null,
      "outputs": [
        {
          "output_type": "execute_result",
          "data": {
            "text/plain": [
              "0.9471453287197237"
            ]
          },
          "metadata": {
            "tags": []
          },
          "execution_count": 48
        }
      ]
    },
    {
      "cell_type": "code",
      "metadata": {
        "id": "eOFuekG9PJVU"
      },
      "source": [
        "dataset=dataset.fillna(0.94)"
      ],
      "execution_count": null,
      "outputs": []
    },
    {
      "cell_type": "code",
      "metadata": {
        "id": "fzYhuYLmOp0s"
      },
      "source": [
        "def convertSF(x):\n",
        "    if x ==1:\n",
        "        return 0\n",
        "    return 1\n",
        "\n",
        "dataset['Selector field'] = dataset['Selector field'].map(convertSF)"
      ],
      "execution_count": null,
      "outputs": []
    },
    {
      "cell_type": "code",
      "metadata": {
        "id": "eNh_JJJ8O0fG"
      },
      "source": [
        "y = dataset['Selector field']\n",
        "X = dataset.drop(['Selector field','Gender'], axis=1)"
      ],
      "execution_count": null,
      "outputs": []
    },
    {
      "cell_type": "markdown",
      "metadata": {
        "id": "Fe82wv_lkUC1"
      },
      "source": [
        "**Splitting the dataset into the Training set and Test set**"
      ]
    },
    {
      "cell_type": "code",
      "metadata": {
        "id": "0TGKZ8DCNdil"
      },
      "source": [
        "from sklearn.model_selection import train_test_split\n",
        "X_train, X_test, y_train, y_test = train_test_split(X, y, test_size = 0.2, train_size=0.8,random_state = 0)"
      ],
      "execution_count": null,
      "outputs": []
    },
    {
      "cell_type": "markdown",
      "metadata": {
        "id": "77AsmCnAkH8S"
      },
      "source": [
        "**Feature Scaling** "
      ]
    },
    {
      "cell_type": "code",
      "metadata": {
        "id": "FQbr2syhGSi_"
      },
      "source": [
        "from sklearn.preprocessing import StandardScaler\n",
        "sc = StandardScaler()\n",
        "X_train = sc.fit_transform(X_train)\n",
        "X_test = sc.transform(X_test)"
      ],
      "execution_count": null,
      "outputs": []
    },
    {
      "cell_type": "markdown",
      "metadata": {
        "id": "BnIqur7yimMl"
      },
      "source": [
        "**Initiating and add layers for our neutral network**"
      ]
    },
    {
      "cell_type": "code",
      "metadata": {
        "id": "x7uFk-ROGS1B"
      },
      "source": [
        "ann = tf.keras.models.Sequential()\n",
        "ann.add(tf.keras.layers.Dense(units=6, activation='relu'))\n",
        "ann.add(tf.keras.layers.Dense(units=6, activation='relu'))\n",
        "ann.add(tf.keras.layers.Dense(units=1, activation='sigmoid'))"
      ],
      "execution_count": null,
      "outputs": []
    },
    {
      "cell_type": "code",
      "metadata": {
        "id": "AxoYZfooGT6d"
      },
      "source": [
        "ann.compile(optimizer = 'adam', loss = 'binary_crossentropy', metrics = ['accuracy'])"
      ],
      "execution_count": null,
      "outputs": []
    },
    {
      "cell_type": "code",
      "metadata": {
        "colab": {
          "base_uri": "https://localhost:8080/"
        },
        "id": "KZT8U_8NGUO2",
        "outputId": "b4717ac5-3c81-40ae-87cc-c241d51f7792"
      },
      "source": [
        "ann.fit(X_train, y_train, batch_size = 32, epochs = 100)"
      ],
      "execution_count": null,
      "outputs": [
        {
          "output_type": "stream",
          "text": [
            "Epoch 1/100\n",
            "15/15 [==============================] - 1s 2ms/step - loss: 0.6847 - accuracy: 0.4827\n",
            "Epoch 2/100\n",
            "15/15 [==============================] - 0s 1ms/step - loss: 0.6653 - accuracy: 0.5055\n",
            "Epoch 3/100\n",
            "15/15 [==============================] - 0s 2ms/step - loss: 0.6493 - accuracy: 0.5658\n",
            "Epoch 4/100\n",
            "15/15 [==============================] - 0s 1ms/step - loss: 0.6137 - accuracy: 0.6126\n",
            "Epoch 5/100\n",
            "15/15 [==============================] - 0s 2ms/step - loss: 0.6233 - accuracy: 0.6450\n",
            "Epoch 6/100\n",
            "15/15 [==============================] - 0s 1ms/step - loss: 0.6013 - accuracy: 0.6912\n",
            "Epoch 7/100\n",
            "15/15 [==============================] - 0s 1ms/step - loss: 0.5884 - accuracy: 0.7131\n",
            "Epoch 8/100\n",
            "15/15 [==============================] - 0s 2ms/step - loss: 0.6017 - accuracy: 0.6973\n",
            "Epoch 9/100\n",
            "15/15 [==============================] - 0s 2ms/step - loss: 0.5956 - accuracy: 0.7127\n",
            "Epoch 10/100\n",
            "15/15 [==============================] - 0s 2ms/step - loss: 0.5814 - accuracy: 0.7132\n",
            "Epoch 11/100\n",
            "15/15 [==============================] - 0s 2ms/step - loss: 0.5557 - accuracy: 0.7401\n",
            "Epoch 12/100\n",
            "15/15 [==============================] - 0s 2ms/step - loss: 0.5519 - accuracy: 0.7143\n",
            "Epoch 13/100\n",
            "15/15 [==============================] - 0s 2ms/step - loss: 0.5697 - accuracy: 0.7177\n",
            "Epoch 14/100\n",
            "15/15 [==============================] - 0s 2ms/step - loss: 0.5516 - accuracy: 0.7077\n",
            "Epoch 15/100\n",
            "15/15 [==============================] - 0s 1ms/step - loss: 0.5509 - accuracy: 0.7056\n",
            "Epoch 16/100\n",
            "15/15 [==============================] - 0s 2ms/step - loss: 0.5569 - accuracy: 0.6913\n",
            "Epoch 17/100\n",
            "15/15 [==============================] - 0s 2ms/step - loss: 0.5536 - accuracy: 0.6917\n",
            "Epoch 18/100\n",
            "15/15 [==============================] - 0s 2ms/step - loss: 0.5598 - accuracy: 0.6891\n",
            "Epoch 19/100\n",
            "15/15 [==============================] - 0s 2ms/step - loss: 0.5538 - accuracy: 0.7024\n",
            "Epoch 20/100\n",
            "15/15 [==============================] - 0s 2ms/step - loss: 0.5174 - accuracy: 0.7263\n",
            "Epoch 21/100\n",
            "15/15 [==============================] - 0s 2ms/step - loss: 0.5292 - accuracy: 0.7116\n",
            "Epoch 22/100\n",
            "15/15 [==============================] - 0s 2ms/step - loss: 0.5299 - accuracy: 0.7285\n",
            "Epoch 23/100\n",
            "15/15 [==============================] - 0s 2ms/step - loss: 0.5432 - accuracy: 0.7132\n",
            "Epoch 24/100\n",
            "15/15 [==============================] - 0s 2ms/step - loss: 0.5332 - accuracy: 0.7321\n",
            "Epoch 25/100\n",
            "15/15 [==============================] - 0s 2ms/step - loss: 0.5097 - accuracy: 0.7435\n",
            "Epoch 26/100\n",
            "15/15 [==============================] - 0s 2ms/step - loss: 0.5237 - accuracy: 0.7024\n",
            "Epoch 27/100\n",
            "15/15 [==============================] - 0s 1ms/step - loss: 0.5420 - accuracy: 0.6926\n",
            "Epoch 28/100\n",
            "15/15 [==============================] - 0s 1ms/step - loss: 0.5164 - accuracy: 0.7347\n",
            "Epoch 29/100\n",
            "15/15 [==============================] - 0s 2ms/step - loss: 0.5318 - accuracy: 0.7057\n",
            "Epoch 30/100\n",
            "15/15 [==============================] - 0s 2ms/step - loss: 0.5606 - accuracy: 0.6872\n",
            "Epoch 31/100\n",
            "15/15 [==============================] - 0s 2ms/step - loss: 0.5122 - accuracy: 0.7201\n",
            "Epoch 32/100\n",
            "15/15 [==============================] - 0s 2ms/step - loss: 0.5350 - accuracy: 0.7047\n",
            "Epoch 33/100\n",
            "15/15 [==============================] - 0s 1ms/step - loss: 0.5298 - accuracy: 0.6930\n",
            "Epoch 34/100\n",
            "15/15 [==============================] - 0s 1ms/step - loss: 0.5231 - accuracy: 0.7206\n",
            "Epoch 35/100\n",
            "15/15 [==============================] - 0s 2ms/step - loss: 0.5166 - accuracy: 0.7236\n",
            "Epoch 36/100\n",
            "15/15 [==============================] - 0s 2ms/step - loss: 0.5444 - accuracy: 0.7068\n",
            "Epoch 37/100\n",
            "15/15 [==============================] - 0s 2ms/step - loss: 0.5106 - accuracy: 0.7390\n",
            "Epoch 38/100\n",
            "15/15 [==============================] - 0s 2ms/step - loss: 0.5462 - accuracy: 0.7049\n",
            "Epoch 39/100\n",
            "15/15 [==============================] - 0s 1ms/step - loss: 0.5519 - accuracy: 0.7039\n",
            "Epoch 40/100\n",
            "15/15 [==============================] - 0s 1ms/step - loss: 0.4988 - accuracy: 0.7403\n",
            "Epoch 41/100\n",
            "15/15 [==============================] - 0s 2ms/step - loss: 0.5225 - accuracy: 0.7279\n",
            "Epoch 42/100\n",
            "15/15 [==============================] - 0s 2ms/step - loss: 0.5197 - accuracy: 0.7224\n",
            "Epoch 43/100\n",
            "15/15 [==============================] - 0s 2ms/step - loss: 0.5134 - accuracy: 0.7221\n",
            "Epoch 44/100\n",
            "15/15 [==============================] - 0s 2ms/step - loss: 0.5022 - accuracy: 0.7236\n",
            "Epoch 45/100\n",
            "15/15 [==============================] - 0s 2ms/step - loss: 0.5353 - accuracy: 0.7191\n",
            "Epoch 46/100\n",
            "15/15 [==============================] - 0s 2ms/step - loss: 0.5206 - accuracy: 0.6914\n",
            "Epoch 47/100\n",
            "15/15 [==============================] - 0s 2ms/step - loss: 0.5710 - accuracy: 0.6743\n",
            "Epoch 48/100\n",
            "15/15 [==============================] - 0s 2ms/step - loss: 0.5214 - accuracy: 0.6999\n",
            "Epoch 49/100\n",
            "15/15 [==============================] - 0s 2ms/step - loss: 0.4701 - accuracy: 0.7449\n",
            "Epoch 50/100\n",
            "15/15 [==============================] - 0s 2ms/step - loss: 0.5118 - accuracy: 0.7079\n",
            "Epoch 51/100\n",
            "15/15 [==============================] - 0s 2ms/step - loss: 0.5200 - accuracy: 0.7240\n",
            "Epoch 52/100\n",
            "15/15 [==============================] - 0s 2ms/step - loss: 0.5207 - accuracy: 0.7076\n",
            "Epoch 53/100\n",
            "15/15 [==============================] - 0s 2ms/step - loss: 0.5124 - accuracy: 0.7421\n",
            "Epoch 54/100\n",
            "15/15 [==============================] - 0s 2ms/step - loss: 0.5130 - accuracy: 0.7494\n",
            "Epoch 55/100\n",
            "15/15 [==============================] - 0s 2ms/step - loss: 0.5070 - accuracy: 0.7369\n",
            "Epoch 56/100\n",
            "15/15 [==============================] - 0s 2ms/step - loss: 0.5220 - accuracy: 0.7017\n",
            "Epoch 57/100\n",
            "15/15 [==============================] - 0s 2ms/step - loss: 0.5215 - accuracy: 0.7038\n",
            "Epoch 58/100\n",
            "15/15 [==============================] - 0s 2ms/step - loss: 0.5541 - accuracy: 0.6744\n",
            "Epoch 59/100\n",
            "15/15 [==============================] - 0s 2ms/step - loss: 0.5338 - accuracy: 0.7188\n",
            "Epoch 60/100\n",
            "15/15 [==============================] - 0s 2ms/step - loss: 0.5108 - accuracy: 0.7331\n",
            "Epoch 61/100\n",
            "15/15 [==============================] - 0s 2ms/step - loss: 0.5054 - accuracy: 0.7189\n",
            "Epoch 62/100\n",
            "15/15 [==============================] - 0s 2ms/step - loss: 0.5133 - accuracy: 0.7020\n",
            "Epoch 63/100\n",
            "15/15 [==============================] - 0s 2ms/step - loss: 0.5100 - accuracy: 0.7459\n",
            "Epoch 64/100\n",
            "15/15 [==============================] - 0s 1ms/step - loss: 0.5334 - accuracy: 0.7113\n",
            "Epoch 65/100\n",
            "15/15 [==============================] - 0s 1ms/step - loss: 0.4939 - accuracy: 0.7397\n",
            "Epoch 66/100\n",
            "15/15 [==============================] - 0s 2ms/step - loss: 0.4752 - accuracy: 0.7364\n",
            "Epoch 67/100\n",
            "15/15 [==============================] - 0s 2ms/step - loss: 0.4874 - accuracy: 0.7215\n",
            "Epoch 68/100\n",
            "15/15 [==============================] - 0s 2ms/step - loss: 0.4869 - accuracy: 0.7194\n",
            "Epoch 69/100\n",
            "15/15 [==============================] - 0s 2ms/step - loss: 0.5006 - accuracy: 0.7466\n",
            "Epoch 70/100\n",
            "15/15 [==============================] - 0s 2ms/step - loss: 0.5055 - accuracy: 0.7283\n",
            "Epoch 71/100\n",
            "15/15 [==============================] - 0s 2ms/step - loss: 0.5395 - accuracy: 0.7102\n",
            "Epoch 72/100\n",
            "15/15 [==============================] - 0s 2ms/step - loss: 0.4763 - accuracy: 0.7592\n",
            "Epoch 73/100\n",
            "15/15 [==============================] - 0s 2ms/step - loss: 0.5008 - accuracy: 0.7234\n",
            "Epoch 74/100\n",
            "15/15 [==============================] - 0s 2ms/step - loss: 0.5064 - accuracy: 0.7360\n",
            "Epoch 75/100\n",
            "15/15 [==============================] - 0s 2ms/step - loss: 0.5085 - accuracy: 0.7315\n",
            "Epoch 76/100\n",
            "15/15 [==============================] - 0s 2ms/step - loss: 0.5018 - accuracy: 0.7231\n",
            "Epoch 77/100\n",
            "15/15 [==============================] - 0s 2ms/step - loss: 0.5273 - accuracy: 0.7005\n",
            "Epoch 78/100\n",
            "15/15 [==============================] - 0s 2ms/step - loss: 0.4808 - accuracy: 0.7190\n",
            "Epoch 79/100\n",
            "15/15 [==============================] - 0s 2ms/step - loss: 0.4878 - accuracy: 0.7461\n",
            "Epoch 80/100\n",
            "15/15 [==============================] - 0s 2ms/step - loss: 0.4890 - accuracy: 0.7088\n",
            "Epoch 81/100\n",
            "15/15 [==============================] - 0s 2ms/step - loss: 0.4856 - accuracy: 0.7236\n",
            "Epoch 82/100\n",
            "15/15 [==============================] - 0s 2ms/step - loss: 0.5209 - accuracy: 0.7226\n",
            "Epoch 83/100\n",
            "15/15 [==============================] - 0s 2ms/step - loss: 0.5021 - accuracy: 0.7415\n",
            "Epoch 84/100\n",
            "15/15 [==============================] - 0s 2ms/step - loss: 0.5470 - accuracy: 0.6962\n",
            "Epoch 85/100\n",
            "15/15 [==============================] - 0s 2ms/step - loss: 0.5049 - accuracy: 0.7065\n",
            "Epoch 86/100\n",
            "15/15 [==============================] - 0s 2ms/step - loss: 0.4812 - accuracy: 0.7329\n",
            "Epoch 87/100\n",
            "15/15 [==============================] - 0s 1ms/step - loss: 0.5072 - accuracy: 0.7030\n",
            "Epoch 88/100\n",
            "15/15 [==============================] - 0s 2ms/step - loss: 0.5070 - accuracy: 0.7213\n",
            "Epoch 89/100\n",
            "15/15 [==============================] - 0s 2ms/step - loss: 0.4950 - accuracy: 0.7290\n",
            "Epoch 90/100\n",
            "15/15 [==============================] - 0s 2ms/step - loss: 0.5198 - accuracy: 0.7385\n",
            "Epoch 91/100\n",
            "15/15 [==============================] - 0s 2ms/step - loss: 0.4886 - accuracy: 0.7518\n",
            "Epoch 92/100\n",
            "15/15 [==============================] - 0s 2ms/step - loss: 0.5060 - accuracy: 0.7348\n",
            "Epoch 93/100\n",
            "15/15 [==============================] - 0s 2ms/step - loss: 0.5102 - accuracy: 0.7031\n",
            "Epoch 94/100\n",
            "15/15 [==============================] - 0s 2ms/step - loss: 0.4767 - accuracy: 0.7486\n",
            "Epoch 95/100\n",
            "15/15 [==============================] - 0s 2ms/step - loss: 0.5076 - accuracy: 0.7161\n",
            "Epoch 96/100\n",
            "15/15 [==============================] - 0s 2ms/step - loss: 0.5460 - accuracy: 0.7180\n",
            "Epoch 97/100\n",
            "15/15 [==============================] - 0s 2ms/step - loss: 0.4970 - accuracy: 0.7431\n",
            "Epoch 98/100\n",
            "15/15 [==============================] - 0s 2ms/step - loss: 0.5168 - accuracy: 0.7308\n",
            "Epoch 99/100\n",
            "15/15 [==============================] - 0s 1ms/step - loss: 0.5232 - accuracy: 0.7438\n",
            "Epoch 100/100\n",
            "15/15 [==============================] - 0s 2ms/step - loss: 0.4923 - accuracy: 0.7304\n"
          ],
          "name": "stdout"
        },
        {
          "output_type": "execute_result",
          "data": {
            "text/plain": [
              "<tensorflow.python.keras.callbacks.History at 0x7ffa24bf3350>"
            ]
          },
          "metadata": {
            "tags": []
          },
          "execution_count": 77
        }
      ]
    },
    {
      "cell_type": "code",
      "metadata": {
        "colab": {
          "base_uri": "https://localhost:8080/"
        },
        "id": "50W-Sj4YK5Lh",
        "outputId": "0a2340b6-acf2-41f6-dda1-2170df1a6288"
      },
      "source": [
        "y_pred = ann.predict(X_test)\n",
        "y_pred = (y_pred > 0.5)\n",
        "from sklearn.metrics import confusion_matrix, accuracy_score\n",
        "cm = confusion_matrix(y_test, y_pred)\n",
        "print(cm)\n",
        "accuracy_score(y_test, y_pred)"
      ],
      "execution_count": null,
      "outputs": [
        {
          "output_type": "stream",
          "text": [
            "[[81  4]\n",
            " [25  7]]\n"
          ],
          "name": "stdout"
        },
        {
          "output_type": "execute_result",
          "data": {
            "text/plain": [
              "0.7521367521367521"
            ]
          },
          "metadata": {
            "tags": []
          },
          "execution_count": 78
        }
      ]
    }
  ]
}