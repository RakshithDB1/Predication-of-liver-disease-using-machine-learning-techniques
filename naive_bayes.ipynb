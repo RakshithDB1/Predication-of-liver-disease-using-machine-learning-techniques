{
 "cells": [
  {
   "cell_type": "code",
   "execution_count": 3,
   "metadata": {},
   "outputs": [],
   "source": [
    "import pandas as pd\n",
    "import numpy as np\n",
    "import matplotlib.pyplot as plt\n",
    "import seaborn as sns\n",
    "%matplotlib inline"
   ]
  },
  {
   "cell_type": "code",
   "execution_count": 4,
   "metadata": {},
   "outputs": [],
   "source": [
    "df=pd.read_csv(\"DATA/Indian Liver Patient Dataset (ILPD).csv\")"
   ]
  },
  {
   "cell_type": "code",
   "execution_count": 5,
   "metadata": {},
   "outputs": [
    {
     "data": {
      "text/plain": [
       "(582, 11)"
      ]
     },
     "execution_count": 5,
     "metadata": {},
     "output_type": "execute_result"
    }
   ],
   "source": [
    "df.shape"
   ]
  },
  {
   "cell_type": "markdown",
   "metadata": {},
   "source": [
    "# Column Names"
   ]
  },
  {
   "cell_type": "markdown",
   "metadata": {},
   "source": [
    "1.Age:                Age of the patient\n",
    "2.Gender:             Gender of the patient\n",
    "3.TB:                 Total Bilirubin\n",
    "4.DB:                 Direct Bilirubin\n",
    "5.Alkphos:            Alkaline Phosphotase\n",
    "6.Sgpt:               Alamine Aminotransferase\n",
    "7.Sgot:               Aspartate Aminotransferase\n",
    "8.TP:                 Total Protiens\n",
    "9.ALB:                Albumin\n",
    "10.A/G Ratio:         Albumin and Globulin Ratio\n",
    "11.Selector fiel:     used to split the data into two sets (labeled by the experts)"
   ]
  },
  {
   "cell_type": "code",
   "execution_count": 6,
   "metadata": {},
   "outputs": [],
   "source": [
    "df.columns=['Age','Gender','TB','DB','Alkphos','Sgpt','Sgot','TP','ALB','A/G Ratio' ,'Selector field']"
   ]
  },
  {
   "cell_type": "code",
   "execution_count": 7,
   "metadata": {},
   "outputs": [
    {
     "data": {
      "text/html": [
       "<div>\n",
       "<style scoped>\n",
       "    .dataframe tbody tr th:only-of-type {\n",
       "        vertical-align: middle;\n",
       "    }\n",
       "\n",
       "    .dataframe tbody tr th {\n",
       "        vertical-align: top;\n",
       "    }\n",
       "\n",
       "    .dataframe thead th {\n",
       "        text-align: right;\n",
       "    }\n",
       "</style>\n",
       "<table border=\"1\" class=\"dataframe\">\n",
       "  <thead>\n",
       "    <tr style=\"text-align: right;\">\n",
       "      <th></th>\n",
       "      <th>Age</th>\n",
       "      <th>Gender</th>\n",
       "      <th>TB</th>\n",
       "      <th>DB</th>\n",
       "      <th>Alkphos</th>\n",
       "      <th>Sgpt</th>\n",
       "      <th>Sgot</th>\n",
       "      <th>TP</th>\n",
       "      <th>ALB</th>\n",
       "      <th>A/G Ratio</th>\n",
       "      <th>Selector field</th>\n",
       "    </tr>\n",
       "  </thead>\n",
       "  <tbody>\n",
       "    <tr>\n",
       "      <th>0</th>\n",
       "      <td>62</td>\n",
       "      <td>Male</td>\n",
       "      <td>10.9</td>\n",
       "      <td>5.5</td>\n",
       "      <td>699</td>\n",
       "      <td>64</td>\n",
       "      <td>100</td>\n",
       "      <td>7.5</td>\n",
       "      <td>3.2</td>\n",
       "      <td>0.74</td>\n",
       "      <td>1</td>\n",
       "    </tr>\n",
       "    <tr>\n",
       "      <th>1</th>\n",
       "      <td>62</td>\n",
       "      <td>Male</td>\n",
       "      <td>7.3</td>\n",
       "      <td>4.1</td>\n",
       "      <td>490</td>\n",
       "      <td>60</td>\n",
       "      <td>68</td>\n",
       "      <td>7.0</td>\n",
       "      <td>3.3</td>\n",
       "      <td>0.89</td>\n",
       "      <td>1</td>\n",
       "    </tr>\n",
       "    <tr>\n",
       "      <th>2</th>\n",
       "      <td>58</td>\n",
       "      <td>Male</td>\n",
       "      <td>1.0</td>\n",
       "      <td>0.4</td>\n",
       "      <td>182</td>\n",
       "      <td>14</td>\n",
       "      <td>20</td>\n",
       "      <td>6.8</td>\n",
       "      <td>3.4</td>\n",
       "      <td>1.00</td>\n",
       "      <td>1</td>\n",
       "    </tr>\n",
       "    <tr>\n",
       "      <th>3</th>\n",
       "      <td>72</td>\n",
       "      <td>Male</td>\n",
       "      <td>3.9</td>\n",
       "      <td>2.0</td>\n",
       "      <td>195</td>\n",
       "      <td>27</td>\n",
       "      <td>59</td>\n",
       "      <td>7.3</td>\n",
       "      <td>2.4</td>\n",
       "      <td>0.40</td>\n",
       "      <td>1</td>\n",
       "    </tr>\n",
       "    <tr>\n",
       "      <th>4</th>\n",
       "      <td>46</td>\n",
       "      <td>Male</td>\n",
       "      <td>1.8</td>\n",
       "      <td>0.7</td>\n",
       "      <td>208</td>\n",
       "      <td>19</td>\n",
       "      <td>14</td>\n",
       "      <td>7.6</td>\n",
       "      <td>4.4</td>\n",
       "      <td>1.30</td>\n",
       "      <td>1</td>\n",
       "    </tr>\n",
       "  </tbody>\n",
       "</table>\n",
       "</div>"
      ],
      "text/plain": [
       "   Age Gender    TB   DB  Alkphos  Sgpt  Sgot   TP  ALB  A/G Ratio  \\\n",
       "0   62   Male  10.9  5.5      699    64   100  7.5  3.2       0.74   \n",
       "1   62   Male   7.3  4.1      490    60    68  7.0  3.3       0.89   \n",
       "2   58   Male   1.0  0.4      182    14    20  6.8  3.4       1.00   \n",
       "3   72   Male   3.9  2.0      195    27    59  7.3  2.4       0.40   \n",
       "4   46   Male   1.8  0.7      208    19    14  7.6  4.4       1.30   \n",
       "\n",
       "   Selector field  \n",
       "0               1  \n",
       "1               1  \n",
       "2               1  \n",
       "3               1  \n",
       "4               1  "
      ]
     },
     "execution_count": 7,
     "metadata": {},
     "output_type": "execute_result"
    }
   ],
   "source": [
    "df.head(5)"
   ]
  },
  {
   "cell_type": "markdown",
   "metadata": {},
   "source": [
    "# Naive Bayes"
   ]
  },
  {
   "cell_type": "code",
   "execution_count": 8,
   "metadata": {},
   "outputs": [],
   "source": [
    "from sklearn.naive_bayes import GaussianNB\n",
    "from sklearn.model_selection import train_test_split\n",
    "from pandas import DataFrame\n",
    "from sklearn.impute import SimpleImputer"
   ]
  },
  {
   "cell_type": "code",
   "execution_count": 9,
   "metadata": {},
   "outputs": [],
   "source": [
    "y = df['Selector field']\n",
    "X = df.drop(['Selector field','Gender'], axis=1)"
   ]
  },
  {
   "cell_type": "code",
   "execution_count": 10,
   "metadata": {},
   "outputs": [],
   "source": [
    "X_train, X_test, y_train, y_test = train_test_split(X, y,test_size=0.2,train_size=0.8, random_state=0)"
   ]
  },
  {
   "cell_type": "code",
   "execution_count": 11,
   "metadata": {},
   "outputs": [],
   "source": [
    "train_mean = X_train.mean()\n",
    "train_std = X_train.std()"
   ]
  },
  {
   "cell_type": "code",
   "execution_count": 29,
   "metadata": {},
   "outputs": [],
   "source": [
    "X_train.fillna(X_train.mean(), inplace=True)\n",
    "X_test.fillna(X_test.mean(), inplace=True)"
   ]
  },
  {
   "cell_type": "code",
   "execution_count": 30,
   "metadata": {},
   "outputs": [
    {
     "data": {
      "text/html": [
       "<div>\n",
       "<style scoped>\n",
       "    .dataframe tbody tr th:only-of-type {\n",
       "        vertical-align: middle;\n",
       "    }\n",
       "\n",
       "    .dataframe tbody tr th {\n",
       "        vertical-align: top;\n",
       "    }\n",
       "\n",
       "    .dataframe thead th {\n",
       "        text-align: right;\n",
       "    }\n",
       "</style>\n",
       "<table border=\"1\" class=\"dataframe\">\n",
       "  <thead>\n",
       "    <tr style=\"text-align: right;\">\n",
       "      <th></th>\n",
       "      <th>Age</th>\n",
       "      <th>TB</th>\n",
       "      <th>DB</th>\n",
       "      <th>Alkphos</th>\n",
       "      <th>Sgpt</th>\n",
       "      <th>Sgot</th>\n",
       "      <th>TP</th>\n",
       "      <th>ALB</th>\n",
       "      <th>A/G Ratio</th>\n",
       "    </tr>\n",
       "  </thead>\n",
       "  <tbody>\n",
       "    <tr>\n",
       "      <th>count</th>\n",
       "      <td>117.000000</td>\n",
       "      <td>117.000000</td>\n",
       "      <td>117.000000</td>\n",
       "      <td>117.000000</td>\n",
       "      <td>117.000000</td>\n",
       "      <td>117.000000</td>\n",
       "      <td>117.000000</td>\n",
       "      <td>117.000000</td>\n",
       "      <td>117.000000</td>\n",
       "    </tr>\n",
       "    <tr>\n",
       "      <th>mean</th>\n",
       "      <td>-0.123977</td>\n",
       "      <td>0.078150</td>\n",
       "      <td>0.008799</td>\n",
       "      <td>-0.124553</td>\n",
       "      <td>0.001048</td>\n",
       "      <td>0.003379</td>\n",
       "      <td>0.083415</td>\n",
       "      <td>-0.007681</td>\n",
       "      <td>-0.116689</td>\n",
       "    </tr>\n",
       "    <tr>\n",
       "      <th>std</th>\n",
       "      <td>1.032949</td>\n",
       "      <td>1.459343</td>\n",
       "      <td>0.926578</td>\n",
       "      <td>0.725870</td>\n",
       "      <td>0.831845</td>\n",
       "      <td>0.665388</td>\n",
       "      <td>1.025124</td>\n",
       "      <td>1.062238</td>\n",
       "      <td>0.880220</td>\n",
       "    </tr>\n",
       "    <tr>\n",
       "      <th>min</th>\n",
       "      <td>-2.558483</td>\n",
       "      <td>-0.483556</td>\n",
       "      <td>-0.484843</td>\n",
       "      <td>-0.803354</td>\n",
       "      <td>-0.364281</td>\n",
       "      <td>-0.312244</td>\n",
       "      <td>-3.389456</td>\n",
       "      <td>-2.214977</td>\n",
       "      <td>-2.004121</td>\n",
       "    </tr>\n",
       "    <tr>\n",
       "      <th>25%</th>\n",
       "      <td>-0.878211</td>\n",
       "      <td>-0.430125</td>\n",
       "      <td>-0.449797</td>\n",
       "      <td>-0.458749</td>\n",
       "      <td>-0.300729</td>\n",
       "      <td>-0.263385</td>\n",
       "      <td>-0.614637</td>\n",
       "      <td>-0.816950</td>\n",
       "      <td>-0.779726</td>\n",
       "    </tr>\n",
       "    <tr>\n",
       "      <th>50%</th>\n",
       "      <td>-0.193656</td>\n",
       "      <td>-0.376695</td>\n",
       "      <td>-0.379704</td>\n",
       "      <td>-0.325606</td>\n",
       "      <td>-0.226586</td>\n",
       "      <td>-0.201496</td>\n",
       "      <td>0.125314</td>\n",
       "      <td>-0.054390</td>\n",
       "      <td>-0.167528</td>\n",
       "    </tr>\n",
       "    <tr>\n",
       "      <th>75%</th>\n",
       "      <td>0.615364</td>\n",
       "      <td>-0.091732</td>\n",
       "      <td>-0.064289</td>\n",
       "      <td>0.011167</td>\n",
       "      <td>-0.104780</td>\n",
       "      <td>-0.080977</td>\n",
       "      <td>0.680278</td>\n",
       "      <td>0.835263</td>\n",
       "      <td>0.444670</td>\n",
       "    </tr>\n",
       "    <tr>\n",
       "      <th>max</th>\n",
       "      <td>1.860009</td>\n",
       "      <td>12.785021</td>\n",
       "      <td>5.473005</td>\n",
       "      <td>5.689315</td>\n",
       "      <td>6.192089</td>\n",
       "      <td>4.528083</td>\n",
       "      <td>2.900133</td>\n",
       "      <td>2.360382</td>\n",
       "      <td>2.740411</td>\n",
       "    </tr>\n",
       "  </tbody>\n",
       "</table>\n",
       "</div>"
      ],
      "text/plain": [
       "              Age          TB          DB     Alkphos        Sgpt        Sgot  \\\n",
       "count  117.000000  117.000000  117.000000  117.000000  117.000000  117.000000   \n",
       "mean    -0.123977    0.078150    0.008799   -0.124553    0.001048    0.003379   \n",
       "std      1.032949    1.459343    0.926578    0.725870    0.831845    0.665388   \n",
       "min     -2.558483   -0.483556   -0.484843   -0.803354   -0.364281   -0.312244   \n",
       "25%     -0.878211   -0.430125   -0.449797   -0.458749   -0.300729   -0.263385   \n",
       "50%     -0.193656   -0.376695   -0.379704   -0.325606   -0.226586   -0.201496   \n",
       "75%      0.615364   -0.091732   -0.064289    0.011167   -0.104780   -0.080977   \n",
       "max      1.860009   12.785021    5.473005    5.689315    6.192089    4.528083   \n",
       "\n",
       "               TP         ALB   A/G Ratio  \n",
       "count  117.000000  117.000000  117.000000  \n",
       "mean     0.083415   -0.007681   -0.116689  \n",
       "std      1.025124    1.062238    0.880220  \n",
       "min     -3.389456   -2.214977   -2.004121  \n",
       "25%     -0.614637   -0.816950   -0.779726  \n",
       "50%      0.125314   -0.054390   -0.167528  \n",
       "75%      0.680278    0.835263    0.444670  \n",
       "max      2.900133    2.360382    2.740411  "
      ]
     },
     "execution_count": 30,
     "metadata": {},
     "output_type": "execute_result"
    }
   ],
   "source": [
    "X_test.describe()"
   ]
  },
  {
   "cell_type": "code",
   "execution_count": 31,
   "metadata": {},
   "outputs": [
    {
     "data": {
      "text/html": [
       "<div>\n",
       "<style scoped>\n",
       "    .dataframe tbody tr th:only-of-type {\n",
       "        vertical-align: middle;\n",
       "    }\n",
       "\n",
       "    .dataframe tbody tr th {\n",
       "        vertical-align: top;\n",
       "    }\n",
       "\n",
       "    .dataframe thead th {\n",
       "        text-align: right;\n",
       "    }\n",
       "</style>\n",
       "<table border=\"1\" class=\"dataframe\">\n",
       "  <thead>\n",
       "    <tr style=\"text-align: right;\">\n",
       "      <th></th>\n",
       "      <th>Age</th>\n",
       "      <th>TB</th>\n",
       "      <th>DB</th>\n",
       "      <th>Alkphos</th>\n",
       "      <th>Sgpt</th>\n",
       "      <th>Sgot</th>\n",
       "      <th>TP</th>\n",
       "      <th>ALB</th>\n",
       "      <th>A/G Ratio</th>\n",
       "    </tr>\n",
       "  </thead>\n",
       "  <tbody>\n",
       "    <tr>\n",
       "      <th>count</th>\n",
       "      <td>4.650000e+02</td>\n",
       "      <td>4.650000e+02</td>\n",
       "      <td>4.650000e+02</td>\n",
       "      <td>4.650000e+02</td>\n",
       "      <td>4.650000e+02</td>\n",
       "      <td>4.650000e+02</td>\n",
       "      <td>4.650000e+02</td>\n",
       "      <td>4.650000e+02</td>\n",
       "      <td>4.650000e+02</td>\n",
       "    </tr>\n",
       "    <tr>\n",
       "      <th>mean</th>\n",
       "      <td>1.375244e-16</td>\n",
       "      <td>3.533613e-17</td>\n",
       "      <td>-1.659843e-15</td>\n",
       "      <td>7.819313e-17</td>\n",
       "      <td>3.533613e-17</td>\n",
       "      <td>-2.339825e-17</td>\n",
       "      <td>-1.167973e-15</td>\n",
       "      <td>-2.717062e-16</td>\n",
       "      <td>2.449653e-16</td>\n",
       "    </tr>\n",
       "    <tr>\n",
       "      <th>std</th>\n",
       "      <td>1.000000e+00</td>\n",
       "      <td>1.000000e+00</td>\n",
       "      <td>1.000000e+00</td>\n",
       "      <td>1.000000e+00</td>\n",
       "      <td>1.000000e+00</td>\n",
       "      <td>1.000000e+00</td>\n",
       "      <td>1.000000e+00</td>\n",
       "      <td>1.000000e+00</td>\n",
       "      <td>9.978425e-01</td>\n",
       "    </tr>\n",
       "    <tr>\n",
       "      <th>min</th>\n",
       "      <td>-2.558483e+00</td>\n",
       "      <td>-5.013659e-01</td>\n",
       "      <td>-4.848430e-01</td>\n",
       "      <td>-9.169167e-01</td>\n",
       "      <td>-3.748726e-01</td>\n",
       "      <td>-3.252733e-01</td>\n",
       "      <td>-3.481950e+00</td>\n",
       "      <td>-2.850443e+00</td>\n",
       "      <td>-2.004121e+00</td>\n",
       "    </tr>\n",
       "    <tr>\n",
       "      <th>25%</th>\n",
       "      <td>-7.537467e-01</td>\n",
       "      <td>-4.301252e-01</td>\n",
       "      <td>-4.497968e-01</td>\n",
       "      <td>-4.783287e-01</td>\n",
       "      <td>-3.060254e-01</td>\n",
       "      <td>-2.764140e-01</td>\n",
       "      <td>-6.146373e-01</td>\n",
       "      <td>-6.898570e-01</td>\n",
       "      <td>-6.266762e-01</td>\n",
       "    </tr>\n",
       "    <tr>\n",
       "      <th>50%</th>\n",
       "      <td>-6.959309e-03</td>\n",
       "      <td>-3.945049e-01</td>\n",
       "      <td>-4.147506e-01</td>\n",
       "      <td>-3.491019e-01</td>\n",
       "      <td>-2.477701e-01</td>\n",
       "      <td>-2.275547e-01</td>\n",
       "      <td>3.282044e-02</td>\n",
       "      <td>-5.439046e-02</td>\n",
       "      <td>1.613134e-02</td>\n",
       "    </tr>\n",
       "    <tr>\n",
       "      <th>75%</th>\n",
       "      <td>8.020604e-01</td>\n",
       "      <td>-1.095421e-01</td>\n",
       "      <td>-6.428899e-02</td>\n",
       "      <td>3.334886e-03</td>\n",
       "      <td>-1.100758e-01</td>\n",
       "      <td>-7.446226e-02</td>\n",
       "      <td>6.802781e-01</td>\n",
       "      <td>8.352626e-01</td>\n",
       "      <td>4.446697e-01</td>\n",
       "    </tr>\n",
       "    <tr>\n",
       "      <th>max</th>\n",
       "      <td>2.793494e+00</td>\n",
       "      <td>7.050146e+00</td>\n",
       "      <td>6.384206e+00</td>\n",
       "      <td>7.099062e+00</td>\n",
       "      <td>1.016404e+01</td>\n",
       "      <td>1.569732e+01</td>\n",
       "      <td>2.807639e+00</td>\n",
       "      <td>2.995849e+00</td>\n",
       "      <td>5.648350e+00</td>\n",
       "    </tr>\n",
       "  </tbody>\n",
       "</table>\n",
       "</div>"
      ],
      "text/plain": [
       "                Age            TB            DB       Alkphos          Sgpt  \\\n",
       "count  4.650000e+02  4.650000e+02  4.650000e+02  4.650000e+02  4.650000e+02   \n",
       "mean   1.375244e-16  3.533613e-17 -1.659843e-15  7.819313e-17  3.533613e-17   \n",
       "std    1.000000e+00  1.000000e+00  1.000000e+00  1.000000e+00  1.000000e+00   \n",
       "min   -2.558483e+00 -5.013659e-01 -4.848430e-01 -9.169167e-01 -3.748726e-01   \n",
       "25%   -7.537467e-01 -4.301252e-01 -4.497968e-01 -4.783287e-01 -3.060254e-01   \n",
       "50%   -6.959309e-03 -3.945049e-01 -4.147506e-01 -3.491019e-01 -2.477701e-01   \n",
       "75%    8.020604e-01 -1.095421e-01 -6.428899e-02  3.334886e-03 -1.100758e-01   \n",
       "max    2.793494e+00  7.050146e+00  6.384206e+00  7.099062e+00  1.016404e+01   \n",
       "\n",
       "               Sgot            TP           ALB     A/G Ratio  \n",
       "count  4.650000e+02  4.650000e+02  4.650000e+02  4.650000e+02  \n",
       "mean  -2.339825e-17 -1.167973e-15 -2.717062e-16  2.449653e-16  \n",
       "std    1.000000e+00  1.000000e+00  1.000000e+00  9.978425e-01  \n",
       "min   -3.252733e-01 -3.481950e+00 -2.850443e+00 -2.004121e+00  \n",
       "25%   -2.764140e-01 -6.146373e-01 -6.898570e-01 -6.266762e-01  \n",
       "50%   -2.275547e-01  3.282044e-02 -5.439046e-02  1.613134e-02  \n",
       "75%   -7.446226e-02  6.802781e-01  8.352626e-01  4.446697e-01  \n",
       "max    1.569732e+01  2.807639e+00  2.995849e+00  5.648350e+00  "
      ]
     },
     "execution_count": 31,
     "metadata": {},
     "output_type": "execute_result"
    }
   ],
   "source": [
    "X_train.describe()"
   ]
  },
  {
   "cell_type": "code",
   "execution_count": 32,
   "metadata": {},
   "outputs": [],
   "source": [
    "gnb=GaussianNB()"
   ]
  },
  {
   "cell_type": "code",
   "execution_count": 36,
   "metadata": {},
   "outputs": [],
   "source": [
    "y_pred=gnb.fit(X_train, y_train).predict(X_test)"
   ]
  },
  {
   "cell_type": "code",
   "execution_count": 37,
   "metadata": {},
   "outputs": [],
   "source": [
    "from sklearn.metrics import  confusion_matrix,classification_report,accuracy_score"
   ]
  },
  {
   "cell_type": "code",
   "execution_count": 39,
   "metadata": {},
   "outputs": [
    {
     "name": "stdout",
     "output_type": "stream",
     "text": [
      "Naive Bayes accuracy is: 55.56\n"
     ]
    }
   ],
   "source": [
    "print(\"Naive Bayes accuracy is: {}\" .format(float(\"{:.2f}\".format(gnb.score(X_test, y_test) * 100))))"
   ]
  },
  {
   "cell_type": "code",
   "execution_count": 40,
   "metadata": {},
   "outputs": [
    {
     "data": {
      "text/plain": [
       "array([[33,  0],\n",
       "       [52, 32]], dtype=int64)"
      ]
     },
     "execution_count": 40,
     "metadata": {},
     "output_type": "execute_result"
    }
   ],
   "source": [
    "confusion_matrix(y_test,y_pred).T"
   ]
  },
  {
   "cell_type": "code",
   "execution_count": null,
   "metadata": {},
   "outputs": [],
   "source": []
  }
 ],
 "metadata": {
  "kernelspec": {
   "display_name": "Python 3",
   "language": "python",
   "name": "python3"
  },
  "language_info": {
   "codemirror_mode": {
    "name": "ipython",
    "version": 3
   },
   "file_extension": ".py",
   "mimetype": "text/x-python",
   "name": "python",
   "nbconvert_exporter": "python",
   "pygments_lexer": "ipython3",
   "version": "3.8.3"
  }
 },
 "nbformat": 4,
 "nbformat_minor": 4
}
